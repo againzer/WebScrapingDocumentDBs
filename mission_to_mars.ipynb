{
 "cells": [
  {
   "cell_type": "code",
   "execution_count": 1,
   "metadata": {},
   "outputs": [],
   "source": [
    "from bs4 import BeautifulSoup as bs\n",
    "import pandas as pd\n",
    "import requests\n",
    "from splinter import Browser\n",
    "from webdriver_manager.chrome import ChromeDriverManager"
   ]
  },
  {
   "cell_type": "code",
   "execution_count": 3,
   "metadata": {},
   "outputs": [
    {
     "name": "stderr",
     "output_type": "stream",
     "text": [
      "\n",
      "\n",
      "====== WebDriver manager ======\n",
      "Current google-chrome version is 91.0.4472\n",
      "Get LATEST driver version for 91.0.4472\n",
      "Get LATEST driver version for 91.0.4472\n",
      "Trying to download new driver from https://chromedriver.storage.googleapis.com/91.0.4472.19/chromedriver_win32.zip\n",
      "Driver has been saved in cache [C:\\Users\\again\\.wdm\\drivers\\chromedriver\\win32\\91.0.4472.19]\n"
     ]
    }
   ],
   "source": [
    "#scrape https://redplanetscience.com/ for title and paragraph\n",
    "executable_path = {'executable_path': ChromeDriverManager().install()}\n",
    "browser = Browser('chrome', **executable_path, headless=False)\n",
    "\n",
    "#url of the page to be scraped\n",
    "url = \"https://redplanetscience.com/\"\n",
    "browser.visit(url)\n",
    "\n",
    "html = browser.html\n",
    "\n",
    "#create bs object parse with parser\n",
    "soup = bs(html,'html.parser')\n",
    "\n",
    "#scrape title\n",
    "title = soup.find(class_= 'content_title')\n",
    "news_title = title.text\n",
    "\n",
    "#scrape teaser\n",
    "paragraph = soup.find(class_= 'article_teaser_body')\n",
    "news_p = paragraph.text\n",
    "\n",
    "browser.quit()"
   ]
  },
  {
   "cell_type": "code",
   "execution_count": 2,
   "metadata": {},
   "outputs": [
    {
     "name": "stderr",
     "output_type": "stream",
     "text": [
      "\n",
      "\n",
      "====== WebDriver manager ======\n",
      "Current google-chrome version is 91.0.4472\n",
      "Get LATEST driver version for 91.0.4472\n",
      "Get LATEST driver version for 91.0.4472\n",
      "Trying to download new driver from https://chromedriver.storage.googleapis.com/91.0.4472.19/chromedriver_win32.zip\n",
      "Driver has been saved in cache [C:\\Users\\again\\.wdm\\drivers\\chromedriver\\win32\\91.0.4472.19]\n"
     ]
    },
    {
     "name": "stdout",
     "output_type": "stream",
     "text": [
      "https://spaceimages-mars.com/image/featured/mars1.jpg\n"
     ]
    }
   ],
   "source": [
    "#scrape https://spaceimages-mars.com/ for featured image\n",
    "executable_path = {'executable_path': ChromeDriverManager().install()}\n",
    "browser = Browser('chrome', **executable_path, headless=False)\n",
    "\n",
    "#url of the page to be scraped\n",
    "url = \"https://spaceimages-mars.com/\"\n",
    "browser.visit(url)\n",
    "\n",
    "html = browser.html\n",
    "\n",
    "#create bs object parse with parser\n",
    "soup = bs(html,'html.parser')\n",
    "\n",
    "#scrape pic\n",
    "pic = soup.find(class_= 'headerimage fade-in')\n",
    "featured_image_url = str(url+pic['src'])\n",
    "\n",
    "#print(featured_image_url)\n",
    "\n",
    "browser.quit()\n"
   ]
  },
  {
   "cell_type": "code",
   "execution_count": 5,
   "metadata": {},
   "outputs": [
    {
     "name": "stderr",
     "output_type": "stream",
     "text": [
      "\n",
      "\n",
      "====== WebDriver manager ======\n",
      "Current google-chrome version is 91.0.4472\n",
      "Get LATEST driver version for 91.0.4472\n",
      "Driver [C:\\Users\\again\\.wdm\\drivers\\chromedriver\\win32\\91.0.4472.19\\chromedriver.exe] found in cache\n"
     ]
    }
   ],
   "source": [
    "#scrape https://galaxyfacts-mars.com/ for table\n",
    "executable_path = {'executable_path': ChromeDriverManager().install()}\n",
    "browser = Browser('chrome', **executable_path, headless=False)\n",
    "\n",
    "#url of the page to be scraped\n",
    "url = \"https://galaxyfacts-mars.com/\"\n",
    "browser.visit(url)\n",
    "\n",
    "html = browser.html\n",
    "\n",
    "\n",
    "#create bs object parse with parser\n",
    "soup = bs(html,'lxml')\n",
    "\n",
    "table_html = soup.find(class_=\"table table-striped\")\n",
    "\n",
    "table_str = str(table_html)\n",
    "table_str\n",
    "\n",
    "#code to convert to df not asked to do\n",
    "#mars_df = pd.read_html(str(table_html))[0]\n",
    "#mars_df\n",
    "\n",
    "browser.quit()\n"
   ]
  },
  {
   "cell_type": "code",
   "execution_count": 7,
   "metadata": {},
   "outputs": [
    {
     "name": "stderr",
     "output_type": "stream",
     "text": [
      "\n",
      "\n",
      "====== WebDriver manager ======\n",
      "Current google-chrome version is 91.0.4472\n",
      "Get LATEST driver version for 91.0.4472\n",
      "Driver [C:\\Users\\again\\.wdm\\drivers\\chromedriver\\win32\\91.0.4472.19\\chromedriver.exe] found in cache\n"
     ]
    },
    {
     "name": "stdout",
     "output_type": "stream",
     "text": [
      "[<h3>Cerberus Hemisphere Enhanced</h3>, <h3>Schiaparelli Hemisphere Enhanced</h3>, <h3>Syrtis Major Hemisphere Enhanced</h3>, <h3>Valles Marineris Hemisphere Enhanced</h3>, <h3>Back</h3>]\n"
     ]
    }
   ],
   "source": [
    "#scrape https://marshemispheres.com/ for table\n",
    "executable_path = {'executable_path': ChromeDriverManager().install()}\n",
    "browser = Browser('chrome', **executable_path, headless=False)\n",
    "\n",
    "hemisphere_image_urls = []\n",
    "\n",
    "url = \"https://marshemispheres.com/\"\n",
    "browser.visit(url)\n",
    "\n",
    "html = browser.html\n",
    "\n",
    "soup = bs(html,'html.parser')\n",
    "\n",
    "hemisphere_names = []\n",
    "\n",
    "hemisphere_names = soup.find_all('h3')\n",
    "\n",
    "\n",
    "for x in range(1,4):\n",
    "    \n",
    "    hemisphere_name = hemisphere_names[x].text\n",
    "\n",
    "    browser.links.find_by_partial_text(hemisphere_name).click()\n",
    "\n",
    "    html = browser.html\n",
    "\n",
    "    soup = bs(html,'html.parser')\n",
    "\n",
    "    pic = browser.links.find_by_text('Original')['href']\n",
    "\n",
    "    cerberus_dict = {\"title\": hemisphere_name ,\"img_url\": pic}\n",
    "\n",
    "    hemisphere_image_urls.append(dict(cerberus_dict))\n",
    "\n",
    "    browser.links.find_by_partial_text('Back').click()\n",
    "    \n",
    "browser.quit()"
   ]
  },
  {
   "cell_type": "code",
   "execution_count": 8,
   "metadata": {},
   "outputs": [
    {
     "name": "stdout",
     "output_type": "stream",
     "text": [
      "[{'title': 'Schiaparelli Hemisphere Enhanced', 'img_url': 'https://marshemispheres.com/images/schiaparelli_enhanced.tif'}, {'title': 'Syrtis Major Hemisphere Enhanced', 'img_url': 'https://marshemispheres.com/images/syrtis_major_enhanced.tif'}, {'title': 'Valles Marineris Hemisphere Enhanced', 'img_url': 'https://marshemispheres.com/images/valles_marineris_enhanced.tif'}]\n"
     ]
    }
   ],
   "source": [
    "print(hemisphere_image_urls)"
   ]
  },
  {
   "cell_type": "code",
   "execution_count": 14,
   "metadata": {},
   "outputs": [
    {
     "name": "stdout",
     "output_type": "stream",
     "text": [
      "{'news_title': \"NASA's Perseverance Mars Rover Gets Balanced\", 'news_paragraph': \"The mission team performed a crucial weight-balancing test on the rover in preparation for this summer's history-making launch to the Red Planet.\", 'featured_image': 'image/featured/mars1.jpg', 'table_str': '<table class=\"table table-striped\">\\n<tbody>\\n<tr>\\n<th scope=\"row\">Equatorial Diameter:</th>\\n<td>6,792 km</td>\\n</tr>\\n<tr>\\n<th scope=\"row\">Polar Diameter:</th>\\n<td>6,752 km</td>\\n</tr>\\n<tr>\\n<th scope=\"row\">Mass:</th>\\n<td>\\t6.39 × 10^23 kg (0.11 Earths)</td>\\n</tr>\\n<tr>\\n<th scope=\"row\">Moons:</th>\\n<td>\\t2 ( <span class=\"red\">Phobos </span> &amp; <span class=\"red\"> Deimos </span>)</td>\\n</tr>\\n<tr>\\n<th scope=\"row\">Orbit Distance:</th>\\n<td>\\t227,943,824 km (1.38 AU)</td>\\n</tr>\\n<tr>\\n<th scope=\"row\">Orbit Period:</th>\\n<td>\\t687 days (1.9 years)</td>\\n</tr>\\n<tr>\\n<th scope=\"row\">Surface Temperature:</th>\\n<td>\\t-87 to -5 °C</td>\\n</tr>\\n<tr>\\n<th scope=\"row\">First Record:</th>\\n<td>\\t2nd millennium BC</td>\\n</tr>\\n<tr>\\n<th scope=\"row\">Recorded By:</th>\\n<td>\\tEgyptian astronomers</td>\\n</tr>\\n</tbody>\\n</table>', 'image_urls': [{'title': 'Schiaparelli Hemisphere Enhanced', 'img_url': 'https://marshemispheres.com/images/schiaparelli_enhanced.tif'}, {'title': 'Syrtis Major Hemisphere Enhanced', 'img_url': 'https://marshemispheres.com/images/syrtis_major_enhanced.tif'}, {'title': 'Valles Marineris Hemisphere Enhanced', 'img_url': 'https://marshemispheres.com/images/valles_marineris_enhanced.tif'}]}\n"
     ]
    }
   ],
   "source": [
    "combined_dictionary = {}\n",
    "combined_dictionary[\"news_title\"] = news_title\n",
    "combined_dictionary[\"news_paragraph\"] = news_p\n",
    "combined_dictionary[\"featured_image\"] = featured_image_url\n",
    "combined_dictionary[\"table_str\"] = table_str\n",
    "combined_dictionary[\"image_urls\"] = hemisphere_image_urls\n"
   ]
  },
  {
   "cell_type": "code",
   "execution_count": null,
   "metadata": {},
   "outputs": [],
   "source": [
    "return combined_dictionary"
   ]
  }
 ],
 "metadata": {
  "kernelspec": {
   "display_name": "Python [conda env:pythondata]",
   "language": "python",
   "name": "conda-env-pythondata-py"
  },
  "language_info": {
   "codemirror_mode": {
    "name": "ipython",
    "version": 3
   },
   "file_extension": ".py",
   "mimetype": "text/x-python",
   "name": "python",
   "nbconvert_exporter": "python",
   "pygments_lexer": "ipython3",
   "version": "3.6.10"
  }
 },
 "nbformat": 4,
 "nbformat_minor": 4
}